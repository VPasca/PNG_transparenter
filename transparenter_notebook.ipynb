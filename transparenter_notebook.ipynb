{
 "cells": [
  {
   "cell_type": "code",
   "execution_count": null,
   "metadata": {},
   "outputs": [],
   "source": [
    "#this is pillow\n",
    "from PIL import Image"
   ]
  },
  {
   "cell_type": "code",
   "execution_count": null,
   "metadata": {},
   "outputs": [],
   "source": [
    "\n",
    "\n",
    "def is_color_within_tolerance(color, target_color, tolerance_percent):\n",
    "    \"\"\"\n",
    "    Checks if a color is within a tolerance range of the target color.\n",
    "\n",
    "    Parameters:\n",
    "        color (tuple): RGB values of the color to check.\n",
    "        target_color (tuple): RGB values of the target color.\n",
    "        tolerance_percent (float): Tolerance percentage for matching colors.\n",
    "\n",
    "    Returns:\n",
    "        bool: True if the color is within the tolerance range, False otherwise.\n",
    "    \"\"\"\n",
    "    tolerance = 255 * tolerance_percent / 100\n",
    "    return all(abs(c - t) <= tolerance for c, t in zip(color, target_color))\n",
    "\n",
    "def jpg_to_transparent_png(input_path, output_path, target_rgb, tolerance_percent=5.0):\n",
    "    \"\"\"\n",
    "    Converts JPG image to a transparent PNG for specific RGB values with tolerance.\n",
    "\n",
    "    Parameters:\n",
    "        input_path (str): Path to the input JPG image file.\n",
    "        output_path (str): Path to save the output transparent PNG image.\n",
    "        target_rgb (tuple): RGB values for the color to make transparent (e.g., (255, 255, 255) for white).\n",
    "        tolerance_percent (float, optional): Tolerance percentage for matching colors. Default is 5.0.\n",
    "    \"\"\"\n",
    "    try:\n",
    "        # Open the input JPG image\n",
    "        img = Image.open(input_path)\n",
    "\n",
    "        # Convert the image to RGBA (Add alpha channel for transparency)\n",
    "        img = img.convert(\"RGBA\")\n",
    "\n",
    "        # Get the image data as a list of tuples (R, G, B, A)\n",
    "        data = img.getdata()\n",
    "\n",
    "        # Create a new list of pixels with transparency\n",
    "        new_data = []\n",
    "        for item in data:\n",
    "            # Check if the pixel color matches the target RGB within the tolerance\n",
    "            if is_color_within_tolerance(item[:3], target_rgb, tolerance_percent):\n",
    "                # Make the pixel transparent (set alpha to 0)\n",
    "                new_data.append((item[0], item[1], item[2], 0))\n",
    "            else:\n",
    "                new_data.append(item)\n",
    "\n",
    "        # Update the image with the new pixel data\n",
    "        img.putdata(new_data)\n",
    "\n",
    "        # Save the image as a transparent PNG\n",
    "        img.save(output_path, \"PNG\")\n",
    "\n",
    "        print(f\"Conversion successful. Saved transparent PNG at {output_path}\")\n",
    "\n",
    "    except Exception as e:\n",
    "        print(f\"Error: {e}\")\n",
    "\n"
   ]
  },
  {
   "cell_type": "code",
   "execution_count": null,
   "metadata": {},
   "outputs": [],
   "source": [
    "\n",
    "# Example usage:\n",
    "# Replace with the path to your input JPG file\n",
    "input_file = ''\n",
    "# Replace with the desired output PNG file path\n",
    "#input_file[:-4] is to get rid of the extension e.g. .jpg - will need editing if you're using other extension\n",
    "output_file = input_file[:-4] + \"_transparented\" + \".png\"   \n",
    "target_rgb = (255, 255, 255)       # RGB values for white\n",
    "tolerance_percent = 7.0            # Tolerance percentage for matching colors\n",
    "\n",
    "jpg_to_transparent_png(input_file, output_file, target_rgb, tolerance_percent)"
   ]
  }
 ],
 "metadata": {
  "kernelspec": {
   "display_name": "Python 3",
   "language": "python",
   "name": "python3"
  },
  "language_info": {
   "codemirror_mode": {
    "name": "ipython",
    "version": 3
   },
   "file_extension": ".py",
   "mimetype": "text/x-python",
   "name": "python",
   "nbconvert_exporter": "python",
   "pygments_lexer": "ipython3",
   "version": "3.7.0"
  }
 },
 "nbformat": 4,
 "nbformat_minor": 2
}
